{
 "cells": [
  {
   "cell_type": "markdown",
   "metadata": {},
   "source": [
    "## Atividade Final - Pré-processamento de Dados"
   ]
  },
  {
   "cell_type": "markdown",
   "metadata": {},
   "source": [
    "### Data de Entrega: 26/11/2019\n",
    "### [Slides da Aula](https://docs.google.com/presentation/d/1lLatjTIJoBJmv0BoByVkgG8cebcpEhXyfgzbQif_B8E/edit?usp=sharing)\n",
    "### Entrega: Enviar arquivo do notebook (.ipynb) para o e-mail do professor contido no Slide da aula"
   ]
  },
  {
   "cell_type": "markdown",
   "metadata": {},
   "source": [
    "## Setup"
   ]
  },
  {
   "cell_type": "code",
   "execution_count": 1,
   "metadata": {},
   "outputs": [],
   "source": [
    "import pandas as pd"
   ]
  },
  {
   "cell_type": "markdown",
   "metadata": {},
   "source": [
    "#### Vamos trabalhar com o Dataset de Diabetes de Índios Pima"
   ]
  },
  {
   "cell_type": "markdown",
   "metadata": {},
   "source": [
    "### Imputar Dados Faltantes"
   ]
  },
  {
   "cell_type": "markdown",
   "metadata": {},
   "source": [
    "### Dataset: Titanic\n",
    "\n",
    "#### Dados\n",
    "\n",
    "* PassengerId: Número de identificação do passageiro;\n",
    "* Survived: Indica se o passageiro sobreviveu ao desastre. É atribuído o valor de 0 para aqueles que não sobreviveram, e 1 para quem sobreviveu;\n",
    "* Pclass: Classe na qual o passageiro viajou. É informado 1 para primeira classe; 2 para segunda; e 3 para terceira;\n",
    "* Name: Nome do passageiro;\n",
    "* Sex: Sexo do passageiro;\n",
    "* Age: Idade do passageiro em anos;\n",
    "* SibSp: Quantidade de irmãos e cônjuges a bordo ;\n",
    "* Parch: Quantidade de pais e filhos a bordo;\n",
    "* Ticket: Número da passagem;\n",
    "* Fare: Preço da passagem;\n",
    "* Cabin: Número da cabine do passageiro;\n",
    "* Embarked: Indica o porto no qual o passageiro embarcou. Há apenas três valores possíveis: Cherbourg, Queenstown e Southampton, indicados pelas letras “C”, “Q” e “S”, respectivamente."
   ]
  },
  {
   "cell_type": "code",
   "execution_count": 2,
   "metadata": {},
   "outputs": [],
   "source": [
    "titanic_dataset = pd.read_csv('../dados/titanic_train.csv')"
   ]
  },
  {
   "cell_type": "markdown",
   "metadata": {},
   "source": [
    "#### Faça um sumário descritivo dos dados (use a função describe())"
   ]
  },
  {
   "cell_type": "markdown",
   "metadata": {},
   "source": [
    "#### Quais colunas possuem dados nulos/faltantes?"
   ]
  },
  {
   "cell_type": "markdown",
   "metadata": {},
   "source": [
    "#### Quantos valores faltantes há em cada coluna?"
   ]
  },
  {
   "cell_type": "markdown",
   "metadata": {},
   "source": [
    "#### Quantos registros teremos se removermos os registros com dados faltantes?"
   ]
  },
  {
   "cell_type": "markdown",
   "metadata": {},
   "source": [
    "#### Faça a imputação de dados com a média utilizando Pandas e descreva a distribuição dos dados novamente"
   ]
  },
  {
   "cell_type": "markdown",
   "metadata": {},
   "source": [
    "#### Faça a imputação de dados com o valor mais comum utilizando Scikit-Learn e descreva a distribuição dos dados novamente"
   ]
  },
  {
   "cell_type": "markdown",
   "metadata": {},
   "source": [
    "#### Faça a imputação de dados utilizando a Imputação Multivariada e descreva a distribuição dos dados novamente"
   ]
  },
  {
   "cell_type": "markdown",
   "metadata": {},
   "source": [
    "#### Extra: Faça a imputação de dados utilizando a Imputação Multivariada (aplicando o modelo ExtraTreesRegressor) e descreva a distribuição dos dados novamente"
   ]
  },
  {
   "cell_type": "markdown",
   "metadata": {},
   "source": [
    "### Redução de Dimensionalidade e Agrupamento"
   ]
  },
  {
   "cell_type": "markdown",
   "metadata": {},
   "source": [
    "#### Vamos trabalhar com o Dataset de Diabetes de Índios Pima"
   ]
  },
  {
   "cell_type": "markdown",
   "metadata": {},
   "source": [
    "Colunas:\n",
    "\n",
    "* 0. Número de vezes grávidas\n",
    "* 1. Concentração de glicose a 2h de um teste de tolerância a glicose.\n",
    "* 2. Pressão sanguínea diastólica (mm Hg).\n",
    "* 3. Mensuração da espessura da pregas cutâneas Tricipital (mm).\n",
    "* 4. Nível sérico de Insulina após 2h (mu U/ml).\n",
    "* 5. Body mass index (peso em kg/(altura em m)^2).\n",
    "* 6. Função Pedigree Diabetes.\n",
    "* 7. Idade (anos).\n",
    "* 8. Variável Classe (0 ou 1)."
   ]
  },
  {
   "cell_type": "code",
   "execution_count": 3,
   "metadata": {},
   "outputs": [],
   "source": [
    "dataset = pd.read_csv('../dados/pima-indians-diabetes.data.txt', header=None)"
   ]
  },
  {
   "cell_type": "markdown",
   "metadata": {},
   "source": [
    "#### Faça um sumário descritivo dos dados (use a função describe())"
   ]
  },
  {
   "cell_type": "markdown",
   "metadata": {},
   "source": [
    "#### Faça a Estandardização dos dados de entrada (sem a classe)"
   ]
  },
  {
   "cell_type": "markdown",
   "metadata": {},
   "source": [
    "#### Aplique o PCA aos dados de entrada (sem a classe)"
   ]
  },
  {
   "cell_type": "markdown",
   "metadata": {},
   "source": [
    "#### Plote o gráfico de barras com a explicação da variância dada pelos componentes principais"
   ]
  },
  {
   "cell_type": "markdown",
   "metadata": {},
   "source": [
    "#### Faça um scatterplot com os dois primeiros componentes no x e y, respectivamente, e a cor sendo a classe"
   ]
  },
  {
   "cell_type": "markdown",
   "metadata": {},
   "source": [
    "#### Aplique o K-Means ao dado com os dois primeiros componentes principais com num_clusters=2"
   ]
  },
  {
   "cell_type": "markdown",
   "metadata": {},
   "source": [
    "#### Faça um scatterplot com os dois primeiros componentes no x e y, respectivamente, e a cor sendo o cluster definido pelo kmeans"
   ]
  },
  {
   "cell_type": "markdown",
   "metadata": {},
   "source": [
    "### Análise Exploratória de Dados (EDA)"
   ]
  },
  {
   "cell_type": "markdown",
   "metadata": {},
   "source": [
    "#### Objetivo: Preparar dataset com dados sobre a atuação dos parlamentares no Congresso Nacional"
   ]
  },
  {
   "cell_type": "markdown",
   "metadata": {},
   "source": [
    "#### Entrada:\n",
    "* Documentos apresentados na Câmara e no Senado\n",
    "   * dados/documentos_camara\n",
    "   * dados/documentos_senado\n",
    "* Autores de documentos apresentados na Câmara e no Senado\n",
    "   * dados/autores_camara\n",
    "   * dados/autores_senado"
   ]
  },
  {
   "cell_type": "markdown",
   "metadata": {},
   "source": [
    "#### Descrição: Dataset de Documentos da Câmara\n",
    "\n",
    "* id_documento - ID do documento na Câmara\n",
    "* id_principal - ID da proposição principal no âmbito da qual o documento foi apresentado\n",
    "* casa - casa onde o documento foi apresentado\n",
    "* sigla_tipo - sigla do tipo do documento (Ex: REQ)\n",
    "* numero - número do documento (Ex: 100)\n",
    "* ano - ano do documento (Ex: 2018)\n",
    "* data_apresentacao - data de apresentação do documento\n",
    "* ementa - ementa do documento\n",
    "* cod_tipo_documento - código do tipo do documento\n",
    "* descricao_tipo_documento - descrição do código do tipo do documento\n",
    "* ementa_detalhada - ementa detalhada do documento\n",
    "* keywords - palavras-chave do documento\n",
    "* status_proposicao_cod_situacao - código da situação do último status da proposição\n",
    "* status_proposicao_cod_tipo_tramitacao - código do tipo da tramitação do último status da proposição\n",
    "* status_proposicao_data_hora - data/hora do último status da proposição\n",
    "* status_proposicao_descricao_situacao - descrição da situação do último status da proposição\n",
    "* status_proposicao_descricao_tramitacao - descrição da tramitação do último status da proposição\n",
    "* status_proposicao_despacho - despacho do último status da proposição\n",
    "* status_proposicao_regime - regime do último status da proposição\n",
    "* status_proposicao_sequencia - sequência do último status da proposição\n",
    "* status_proposicao_sigla_orgao - sigla do órgão do último status da proposição\n",
    "* status_proposicao_uri_orgao - órgão do último status da proposição\n",
    "* status_proposicao_uri_ultimo_relator - último relator do último status da proposição\n",
    "* status_proposicao_url - URL do último status da proposição\n",
    "* uri_documento - URI do documento\n",
    "* uri_autores - URI dos autores do documento\n",
    "* uri_prop_posterior - URI da proposição posterior\n",
    "* uri_prop_principal - URI da proposição principal\n",
    "* uri_ultimo_relator - URI do último relator\n",
    "* url_inteiro_teor - URI do inteiro teor do documento"
   ]
  },
  {
   "cell_type": "markdown",
   "metadata": {},
   "source": [
    "#### Descrição: Dataset de Documentos do Senado\n",
    "\n",
    "* ano_materia - ano da matéria (documento)\n",
    "* autoria_texto - autoria do texto\n",
    "* casa - casa onde documento foi apresentado\n",
    "* id_principal - ID da proposição principal no âmbito da qual o documento foi apresentado\n",
    "* id_documento - ID do documento no Senado\n",
    "* data_texto - data do texto\n",
    "* descricao_identificacao_materia - descrição da identificação da matéria (documento)\n",
    "* descricao_objetivo_processo - descrição do objetivo do processo (documento)\n",
    "* descricao_subtipo_materia - descrição do subtipo da matéria (documento)\n",
    "* descricao_texto - descrição do texto\n",
    "* descricao_tipo_texto - descrição do tipo do texto\n",
    "* formato_texto - formato do texto\n",
    "* identificacao_comissao_codigo_comissao - código da comissão onde o documento foi apresentado\n",
    "* identificacao_comissao_nome_casa_comissao - nome da casa da comissão onde o documento foi apresentado\n",
    "* identificacao_comissao_nome_comissao - nome da comissão onde o documento foi apresentado\n",
    "* identificacao_comissao_sigla_casa_comissao - sigla da casa da comissão onde o documento foi apresentado\n",
    "* identificacao_comissao_sigla_comissao - sigla da comissão onde o documento foi apresentado\n",
    "* indicador_tramitando - indicador se o documento está tramitando\n",
    "* nome_casa_identificacao_materia - nome da casa onde a proposição principal foi apresentada\n",
    "* numero_emenda - número da emenda (caso o documento seja uma emenda)\n",
    "* numero_materia - número da matéria\n",
    "* sigla_casa_identificacao_materia - sigla da casa onde a proposição principal foi apresentada\n",
    "* sigla_subtipo_materia - sigla do subtipo da matéria\n",
    "* tipo_documento - tipo do documento\n",
    "* url_texto - URL do texto"
   ]
  },
  {
   "cell_type": "markdown",
   "metadata": {},
   "source": [
    "#### Descrição: Dataset de Autores da Câmara\n",
    "\n",
    "* id_autor - ID do autor do documento na respectiva casa\n",
    "* nome - nome do autor do documento\n",
    "* tipo_autor - tipo do autor\n",
    "* uri_autor - URI do autor\n",
    "* id_documento - ID do documento\n",
    "* casa - casa onde o documento foi apresentado\n",
    "* partido - partido do autor\n",
    "* uf - Unidade Federativa do autor\n",
    "* cod_tipo_autor - dódigo do tipo do autor\n",
    "\n",
    "#### Descrição: Dataset de Autores do Senado\n",
    "\n",
    "* id_principal - ID da proposição principal no âmbito da qual o documento foi apresentado\n",
    "* id_documento - ID do documento no Senado\n",
    "* casa - casa onde o documento foi apresentado \n",
    "* nome_autor - nome do autor\n",
    "* partido - partido do autor\n",
    "* uf - Unidade Federativa do autor\n",
    "* tipo_autor - tipo do autor\n",
    "* id_autor - ID do autor"
   ]
  },
  {
   "cell_type": "markdown",
   "metadata": {},
   "source": [
    "#### Dicas:\n",
    " * Utilizem as funções de merge do pandas ([documentação](https://estatsite.com/2019/04/30/join-merge-no-python-pandas/))\n",
    " * Utilizem as colunas que os datasets têm em comum para mesclá-los.\n",
    " * Pensem quais colunas serão importantes para a análise, e quais podem ser descartadas\n",
    " * Pensem em quais colunas são equivalentes nos datasets. Elas podem ou não ter o mesmo nome. "
   ]
  },
  {
   "cell_type": "markdown",
   "metadata": {},
   "source": [
    "#### Saída (Dataset):\n",
    " * Gere um dataframe com os documentos que os parlamentares apresentaram em 2019 (cada linha deve representar um documento apresentado por um parlamentar)\n",
    "\n",
    "#### Saída (Gráficos):\n",
    " * A partir do dataset gerado acima, gere gráficos de barras que mostrem:"
   ]
  },
  {
   "cell_type": "markdown",
   "metadata": {},
   "source": [
    "####   1. Os top-10 deputados que apresentaram mais documentos nesse ano"
   ]
  },
  {
   "cell_type": "markdown",
   "metadata": {},
   "source": [
    "####   2. Os top-10 senadores que apresentaram mais documentos nesse ano"
   ]
  },
  {
   "cell_type": "markdown",
   "metadata": {},
   "source": [
    "####   3. Os top-10 parlamentares (senadores e deputados) que apresentaram mais documentos nesse ano"
   ]
  },
  {
   "cell_type": "markdown",
   "metadata": {},
   "source": [
    "####   4. Os top-10 deputados que apresentaram mais documentos na PEC da Reforma Tributária (Câmara - id_principal = 2196833)"
   ]
  },
  {
   "cell_type": "markdown",
   "metadata": {},
   "source": [
    "####   5. Os Top-10 parlamentares que apresentaram mais documentos no mês de Abril/2019"
   ]
  },
  {
   "cell_type": "code",
   "execution_count": null,
   "metadata": {},
   "outputs": [],
   "source": []
  }
 ],
 "metadata": {
  "kernelspec": {
   "display_name": "Python 3",
   "language": "python",
   "name": "python3"
  },
  "language_info": {
   "codemirror_mode": {
    "name": "ipython",
    "version": 3
   },
   "file_extension": ".py",
   "mimetype": "text/x-python",
   "name": "python",
   "nbconvert_exporter": "python",
   "pygments_lexer": "ipython3",
   "version": "3.7.4"
  }
 },
 "nbformat": 4,
 "nbformat_minor": 2
}
