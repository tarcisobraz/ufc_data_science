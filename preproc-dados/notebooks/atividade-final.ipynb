{
 "cells": [
  {
   "cell_type": "markdown",
   "metadata": {},
   "source": [
    "## Atividade Final - Pré-processamento de Dados"
   ]
  },
  {
   "cell_type": "markdown",
   "metadata": {},
   "source": [
    "### Data de Entrega: 25/11/2019\n",
    "### [Slides da Aula](https://docs.google.com/presentation/d/1lLatjTIJoBJmv0BoByVkgG8cebcpEhXyfgzbQif_B8E/edit?usp=sharing)\n",
    "### Entrega: Enviar arquivo do notebook (.ipynb) para o e-mail do professor contido no Slide da aula"
   ]
  },
  {
   "cell_type": "markdown",
   "metadata": {},
   "source": [
    "## Setup"
   ]
  },
  {
   "cell_type": "code",
   "execution_count": 4,
   "metadata": {},
   "outputs": [],
   "source": [
    "import pandas as pd"
   ]
  },
  {
   "cell_type": "markdown",
   "metadata": {},
   "source": [
    "#### Vamos trabalhar com o Dataset de Diabetes de Índios Pima"
   ]
  },
  {
   "cell_type": "markdown",
   "metadata": {},
   "source": [
    "### Imputar Dados Faltantes"
   ]
  },
  {
   "cell_type": "markdown",
   "metadata": {},
   "source": [
    "### Dataset: Titanic\n",
    "\n",
    "#### Dados\n",
    "\n",
    "* PassengerId: Número de identificação do passageiro;\n",
    "* Survived: Indica se o passageiro sobreviveu ao desastre. É atribuído o valor de 0 para aqueles que não sobreviveram, e 1 para quem sobreviveu;\n",
    "* Pclass: Classe na qual o passageiro viajou. É informado 1 para primeira classe; 2 para segunda; e 3 para terceira;\n",
    "* Name: Nome do passageiro;\n",
    "* Sex: Sexo do passageiro;\n",
    "* Age: Idade do passageiro em anos;\n",
    "* SibSp: Quantidade de irmãos e cônjuges a bordo ;\n",
    "* Parch: Quantidade de pais e filhos a bordo;\n",
    "* Ticket: Número da passagem;\n",
    "* Fare: Preço da passagem;\n",
    "* Cabin: Número da cabine do passageiro;\n",
    "* Embarked: Indica o porto no qual o passageiro embarcou. Há apenas três valores possíveis: Cherbourg, Queenstown e Southampton, indicados pelas letras “C”, “Q” e “S”, respectivamente."
   ]
  },
  {
   "cell_type": "code",
   "execution_count": 3,
   "metadata": {},
   "outputs": [],
   "source": [
    "titanic_dataset = pd.read_csv('../dados/titanic_train.csv')"
   ]
  },
  {
   "cell_type": "markdown",
   "metadata": {},
   "source": [
    "#### Faça um sumário descritivo dos dados"
   ]
  },
  {
   "cell_type": "markdown",
   "metadata": {},
   "source": [
    "#### Quais colunas possuem dados nulos/faltantes?"
   ]
  },
  {
   "cell_type": "markdown",
   "metadata": {},
   "source": [
    "#### Quantos valores faltantes há em cada coluna?"
   ]
  },
  {
   "cell_type": "markdown",
   "metadata": {},
   "source": [
    "#### Quantos registros teremos se removermos os registros com dados faltantes?"
   ]
  },
  {
   "cell_type": "markdown",
   "metadata": {},
   "source": [
    "#### Faça a imputação de dados com a média utilizando Pandas e descreva a distribuição dos dados novamente"
   ]
  },
  {
   "cell_type": "markdown",
   "metadata": {},
   "source": [
    "#### Faça a imputação de dados com o valor mais comum utilizando Scikit-Learn e descreva a distribuição dos dados novamente"
   ]
  },
  {
   "cell_type": "markdown",
   "metadata": {},
   "source": [
    "#### Faça a imputação de dados utilizando a Imputação Multivariada e descreva a distribuição dos dados novamente"
   ]
  },
  {
   "cell_type": "markdown",
   "metadata": {},
   "source": [
    "#### Extra: Faça a imputação de dados utilizando a Imputação Multivariada (aplicando o modelo ExtraTreesRegressor) e descreva a distribuição dos dados novamente"
   ]
  },
  {
   "cell_type": "markdown",
   "metadata": {},
   "source": [
    "### Redução de Dimensionalidade e Agrupamento"
   ]
  },
  {
   "cell_type": "markdown",
   "metadata": {},
   "source": [
    "#### Vamos trabalhar com o Dataset de Diabetes de Índios Pima"
   ]
  },
  {
   "cell_type": "markdown",
   "metadata": {},
   "source": [
    "Colunas:\n",
    "\n",
    "* 0. Número de vezes grávidas\n",
    "* 1. Concentração de glicose a 2h de um teste de tolerância a glicose.\n",
    "* 2. Pressão sanguínea diastólica (mm Hg).\n",
    "* 3. Mensuração da espessura da pregas cutâneas Tricipital (mm).\n",
    "* 4. Nível sérico de Insulina após 2h (mu U/ml).\n",
    "* 5. Body mass index (peso em kg/(altura em m)^2).\n",
    "* 6. Função Pedigree Diabetes.\n",
    "* 7. Idade (anos).\n",
    "* 8. Variável Classe (0 ou 1)."
   ]
  },
  {
   "cell_type": "code",
   "execution_count": 5,
   "metadata": {},
   "outputs": [],
   "source": [
    "dataset = pd.read_csv('../dados/pima-indians-diabetes.data.txt', header=None)"
   ]
  },
  {
   "cell_type": "markdown",
   "metadata": {},
   "source": [
    "#### Faça um sumário descritivo dos dados"
   ]
  },
  {
   "cell_type": "markdown",
   "metadata": {},
   "source": [
    "#### Faça a Estandardização dos dados de entrada (sem a classe)"
   ]
  },
  {
   "cell_type": "markdown",
   "metadata": {},
   "source": [
    "#### Aplique o PCA aos dados de entrada (sem a classe)"
   ]
  },
  {
   "cell_type": "markdown",
   "metadata": {},
   "source": [
    "#### Plote o gráfico de barras com a explicação da variância dada pelos componentes principais"
   ]
  },
  {
   "cell_type": "markdown",
   "metadata": {},
   "source": [
    "#### Faça um scatterplot com os dois primeiros componentes no x e y, respectivamente, e a cor sendo a classe"
   ]
  },
  {
   "cell_type": "markdown",
   "metadata": {},
   "source": [
    "#### Aplique o K-Means ao dado com os dois primeiros componentes principais com num_clusters=2"
   ]
  },
  {
   "cell_type": "markdown",
   "metadata": {},
   "source": [
    "#### Faça um scatterplot com os dois primeiros componentes no x e y, respectivamente, e a cor sendo o cluster definido pelo kmeans"
   ]
  },
  {
   "cell_type": "markdown",
   "metadata": {},
   "source": [
    "### Análise Exploratória de Dados (EDA)"
   ]
  },
  {
   "cell_type": "markdown",
   "metadata": {},
   "source": [
    "#### Objetivo: Preparar dataset com dados sobre a atuação dos parlamentares no Congresso Nacional"
   ]
  },
  {
   "cell_type": "markdown",
   "metadata": {},
   "source": [
    "#### Entrada:\n",
    "* Documentos apresentados na Câmara e no Senado\n",
    "   * dados/documentos_camara\n",
    "   * dados/documentos_senado\n",
    "* Autores de documentos apresentados na Câmara e no Senado\n",
    "   * dados/autores_camara\n",
    "   * dados/autores_senado\n",
    "* Parlamentares da Câmara e Senado\n",
    "   * dados/parlamentares_camara\n",
    "   * dados/parlamentares_senado"
   ]
  },
  {
   "cell_type": "markdown",
   "metadata": {},
   "source": [
    "#### Dicas:\n",
    " * Utilizem as funções de merge do pandas ([documentação](https://estatsite.com/2019/04/30/join-merge-no-python-pandas/))\n",
    " * Utilizem as colunas que os datasets têm em comum para mesclá-los."
   ]
  },
  {
   "cell_type": "markdown",
   "metadata": {},
   "source": [
    "#### Saída (Dataset):\n",
    " * Gere um dataframe com os documentos que os parlamentares apresentaram (cada linha deve representar um documento apresentado por um parlamentar)\n",
    "\n",
    "#### Saída (Gráficos):\n",
    " * A partir do dataset gerado acima, gere gráficos de barras que mostrem a quantidade de documentos apresentados por cada parlamentar:\n",
    "   1. No geral\n",
    "   2. Por Proposição\n",
    "   3. Por Mês"
   ]
  },
  {
   "cell_type": "code",
   "execution_count": null,
   "metadata": {},
   "outputs": [],
   "source": []
  }
 ],
 "metadata": {
  "kernelspec": {
   "display_name": "Python 3",
   "language": "python",
   "name": "python3"
  },
  "language_info": {
   "codemirror_mode": {
    "name": "ipython",
    "version": 3
   },
   "file_extension": ".py",
   "mimetype": "text/x-python",
   "name": "python",
   "nbconvert_exporter": "python",
   "pygments_lexer": "ipython3",
   "version": "3.7.4"
  }
 },
 "nbformat": 4,
 "nbformat_minor": 2
}
