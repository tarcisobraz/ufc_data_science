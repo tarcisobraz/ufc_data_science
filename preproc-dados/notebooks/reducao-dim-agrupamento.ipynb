{
 "cells": [
  {
   "cell_type": "markdown",
   "metadata": {},
   "source": [
    "## Setup"
   ]
  },
  {
   "cell_type": "code",
   "execution_count": 1,
   "metadata": {},
   "outputs": [],
   "source": [
    "import matplotlib.pyplot as plt\n",
    "import seaborn as sns\n",
    "import pandas as pd\n",
    "import numpy as np\n",
    "%matplotlib inline"
   ]
  },
  {
   "cell_type": "markdown",
   "metadata": {},
   "source": [
    "#### Vamos trabalhar com um dataset de clusters pré-gerado"
   ]
  },
  {
   "cell_type": "code",
   "execution_count": 2,
   "metadata": {},
   "outputs": [],
   "source": [
    "from sklearn.datasets import make_blobs\n",
    "from sklearn import decomposition\n",
    "\n",
    "rclusters_data, rclusters_label = make_blobs(n_features=10, \n",
    "         n_samples=100,\n",
    "         centers=4, random_state=13,\n",
    "         cluster_std=2)\n",
    "\n",
    "labels = [\"F1\",\"F2\",\"F3\",\"F4\",\"F5\",\"F6\",\"F7\",\"F8\",\"F9\",\"F10\",\"C\"]\n",
    "rclusters_df = pd.DataFrame(np.column_stack((rclusters_data,rclusters_label)),\n",
    "                           columns=labels)"
   ]
  },
  {
   "cell_type": "code",
   "execution_count": 3,
   "metadata": {},
   "outputs": [
    {
     "data": {
      "text/html": [
       "<div>\n",
       "<style scoped>\n",
       "    .dataframe tbody tr th:only-of-type {\n",
       "        vertical-align: middle;\n",
       "    }\n",
       "\n",
       "    .dataframe tbody tr th {\n",
       "        vertical-align: top;\n",
       "    }\n",
       "\n",
       "    .dataframe thead th {\n",
       "        text-align: right;\n",
       "    }\n",
       "</style>\n",
       "<table border=\"1\" class=\"dataframe\">\n",
       "  <thead>\n",
       "    <tr style=\"text-align: right;\">\n",
       "      <th></th>\n",
       "      <th>F1</th>\n",
       "      <th>F2</th>\n",
       "      <th>F3</th>\n",
       "      <th>F4</th>\n",
       "      <th>F5</th>\n",
       "      <th>F6</th>\n",
       "      <th>F7</th>\n",
       "      <th>F8</th>\n",
       "      <th>F9</th>\n",
       "      <th>F10</th>\n",
       "      <th>C</th>\n",
       "    </tr>\n",
       "  </thead>\n",
       "  <tbody>\n",
       "    <tr>\n",
       "      <td>0</td>\n",
       "      <td>4.016794</td>\n",
       "      <td>-3.790845</td>\n",
       "      <td>8.017393</td>\n",
       "      <td>9.730584</td>\n",
       "      <td>5.077792</td>\n",
       "      <td>0.512915</td>\n",
       "      <td>2.878350</td>\n",
       "      <td>4.833294</td>\n",
       "      <td>-1.058514</td>\n",
       "      <td>6.102176</td>\n",
       "      <td>0.0</td>\n",
       "    </tr>\n",
       "    <tr>\n",
       "      <td>1</td>\n",
       "      <td>5.737905</td>\n",
       "      <td>-5.734353</td>\n",
       "      <td>5.458263</td>\n",
       "      <td>1.245100</td>\n",
       "      <td>-0.507280</td>\n",
       "      <td>11.518467</td>\n",
       "      <td>-9.594813</td>\n",
       "      <td>-6.674885</td>\n",
       "      <td>4.613275</td>\n",
       "      <td>-2.503647</td>\n",
       "      <td>3.0</td>\n",
       "    </tr>\n",
       "    <tr>\n",
       "      <td>2</td>\n",
       "      <td>6.858014</td>\n",
       "      <td>-10.391083</td>\n",
       "      <td>3.058965</td>\n",
       "      <td>0.828260</td>\n",
       "      <td>-0.750277</td>\n",
       "      <td>6.441632</td>\n",
       "      <td>-13.020148</td>\n",
       "      <td>-6.458981</td>\n",
       "      <td>2.761462</td>\n",
       "      <td>-5.135676</td>\n",
       "      <td>3.0</td>\n",
       "    </tr>\n",
       "    <tr>\n",
       "      <td>3</td>\n",
       "      <td>4.398365</td>\n",
       "      <td>-6.932519</td>\n",
       "      <td>5.378765</td>\n",
       "      <td>8.831973</td>\n",
       "      <td>10.976484</td>\n",
       "      <td>-1.436050</td>\n",
       "      <td>2.764130</td>\n",
       "      <td>4.731219</td>\n",
       "      <td>3.782642</td>\n",
       "      <td>4.295638</td>\n",
       "      <td>0.0</td>\n",
       "    </tr>\n",
       "    <tr>\n",
       "      <td>4</td>\n",
       "      <td>-7.704930</td>\n",
       "      <td>-7.174018</td>\n",
       "      <td>-10.610180</td>\n",
       "      <td>8.854839</td>\n",
       "      <td>-0.720169</td>\n",
       "      <td>3.879538</td>\n",
       "      <td>-8.106169</td>\n",
       "      <td>-4.223907</td>\n",
       "      <td>-11.422369</td>\n",
       "      <td>-4.521692</td>\n",
       "      <td>1.0</td>\n",
       "    </tr>\n",
       "  </tbody>\n",
       "</table>\n",
       "</div>"
      ],
      "text/plain": [
       "         F1         F2         F3        F4         F5         F6         F7  \\\n",
       "0  4.016794  -3.790845   8.017393  9.730584   5.077792   0.512915   2.878350   \n",
       "1  5.737905  -5.734353   5.458263  1.245100  -0.507280  11.518467  -9.594813   \n",
       "2  6.858014 -10.391083   3.058965  0.828260  -0.750277   6.441632 -13.020148   \n",
       "3  4.398365  -6.932519   5.378765  8.831973  10.976484  -1.436050   2.764130   \n",
       "4 -7.704930  -7.174018 -10.610180  8.854839  -0.720169   3.879538  -8.106169   \n",
       "\n",
       "         F8         F9       F10    C  \n",
       "0  4.833294  -1.058514  6.102176  0.0  \n",
       "1 -6.674885   4.613275 -2.503647  3.0  \n",
       "2 -6.458981   2.761462 -5.135676  3.0  \n",
       "3  4.731219   3.782642  4.295638  0.0  \n",
       "4 -4.223907 -11.422369 -4.521692  1.0  "
      ]
     },
     "execution_count": 3,
     "metadata": {},
     "output_type": "execute_result"
    }
   ],
   "source": [
    "rclusters_df.head()"
   ]
  },
  {
   "cell_type": "markdown",
   "metadata": {},
   "source": [
    "### Redução de Dimensionalidade usando PCA"
   ]
  },
  {
   "cell_type": "code",
   "execution_count": 4,
   "metadata": {},
   "outputs": [],
   "source": [
    "pca = decomposition.PCA(n_components=4)\n",
    "pc = pca.fit_transform(rclusters_df)"
   ]
  },
  {
   "cell_type": "code",
   "execution_count": 5,
   "metadata": {},
   "outputs": [
    {
     "data": {
      "text/html": [
       "<div>\n",
       "<style scoped>\n",
       "    .dataframe tbody tr th:only-of-type {\n",
       "        vertical-align: middle;\n",
       "    }\n",
       "\n",
       "    .dataframe tbody tr th {\n",
       "        vertical-align: top;\n",
       "    }\n",
       "\n",
       "    .dataframe thead th {\n",
       "        text-align: right;\n",
       "    }\n",
       "</style>\n",
       "<table border=\"1\" class=\"dataframe\">\n",
       "  <thead>\n",
       "    <tr style=\"text-align: right;\">\n",
       "      <th></th>\n",
       "      <th>PC1</th>\n",
       "      <th>PC2</th>\n",
       "      <th>PC3</th>\n",
       "      <th>PC4</th>\n",
       "      <th>Cluster</th>\n",
       "    </tr>\n",
       "  </thead>\n",
       "  <tbody>\n",
       "    <tr>\n",
       "      <td>0</td>\n",
       "      <td>4.901210</td>\n",
       "      <td>-10.586042</td>\n",
       "      <td>6.635787</td>\n",
       "      <td>3.275336</td>\n",
       "      <td>0</td>\n",
       "    </tr>\n",
       "    <tr>\n",
       "      <td>1</td>\n",
       "      <td>-16.437665</td>\n",
       "      <td>-6.106828</td>\n",
       "      <td>-5.913033</td>\n",
       "      <td>2.153366</td>\n",
       "      <td>3</td>\n",
       "    </tr>\n",
       "    <tr>\n",
       "      <td>2</td>\n",
       "      <td>-15.407675</td>\n",
       "      <td>-4.213353</td>\n",
       "      <td>-8.694291</td>\n",
       "      <td>-2.317439</td>\n",
       "      <td>3</td>\n",
       "    </tr>\n",
       "    <tr>\n",
       "      <td>3</td>\n",
       "      <td>2.393089</td>\n",
       "      <td>-14.241652</td>\n",
       "      <td>9.055529</td>\n",
       "      <td>0.228664</td>\n",
       "      <td>0</td>\n",
       "    </tr>\n",
       "    <tr>\n",
       "      <td>4</td>\n",
       "      <td>-6.561365</td>\n",
       "      <td>16.521034</td>\n",
       "      <td>5.175002</td>\n",
       "      <td>-3.581334</td>\n",
       "      <td>1</td>\n",
       "    </tr>\n",
       "  </tbody>\n",
       "</table>\n",
       "</div>"
      ],
      "text/plain": [
       "         PC1        PC2       PC3       PC4  Cluster\n",
       "0   4.901210 -10.586042  6.635787  3.275336        0\n",
       "1 -16.437665  -6.106828 -5.913033  2.153366        3\n",
       "2 -15.407675  -4.213353 -8.694291 -2.317439        3\n",
       "3   2.393089 -14.241652  9.055529  0.228664        0\n",
       "4  -6.561365  16.521034  5.175002 -3.581334        1"
      ]
     },
     "execution_count": 5,
     "metadata": {},
     "output_type": "execute_result"
    }
   ],
   "source": [
    "pc_df = pd.DataFrame(data = pc , \n",
    "        columns = ['PC1', 'PC2','PC3','PC4'])\n",
    "pc_df['Cluster'] = rclusters_label\n",
    "pc_df.head()"
   ]
  },
  {
   "cell_type": "code",
   "execution_count": 6,
   "metadata": {},
   "outputs": [
    {
     "data": {
      "text/plain": [
       "array([0.41051704, 0.36819481, 0.14004362, 0.01924092])"
      ]
     },
     "execution_count": 6,
     "metadata": {},
     "output_type": "execute_result"
    }
   ],
   "source": [
    "pca.explained_variance_ratio_"
   ]
  },
  {
   "cell_type": "markdown",
   "metadata": {},
   "source": [
    "#### Componentes Principais e seu poder de explicação da variância"
   ]
  },
  {
   "cell_type": "code",
   "execution_count": 7,
   "metadata": {},
   "outputs": [
    {
     "data": {
      "text/plain": [
       "<matplotlib.axes._subplots.AxesSubplot at 0x23293f9fe48>"
      ]
     },
     "execution_count": 7,
     "metadata": {},
     "output_type": "execute_result"
    },
    {
     "data": {
      "image/png": "[encoded data removed]",
      "text/plain": [
       "<Figure size 432x288 with 1 Axes>"
      ]
     },
     "metadata": {
      "needs_background": "light"
     },
     "output_type": "display_data"
    }
   ],
   "source": [
    "df = pd.DataFrame({'var':pca.explained_variance_ratio_,\n",
    "             'PC':['PC1','PC2','PC3','PC4']})\n",
    "sns.barplot(x='PC',y=\"var\", data=df, color=\"c\")"
   ]
  },
  {
   "cell_type": "code",
   "execution_count": 8,
   "metadata": {},
   "outputs": [
    {
     "data": {
      "text/plain": [
       "<matplotlib.axes._subplots.AxesSubplot at 0x232942bc508>"
      ]
     },
     "execution_count": 8,
     "metadata": {},
     "output_type": "execute_result"
    },
    {
     "data": {
      "image/png": "[encoded data removed]",
      "text/plain": [
       "<Figure size 432x288 with 1 Axes>"
      ]
     },
     "metadata": {
      "needs_background": "light"
     },
     "output_type": "display_data"
    }
   ],
   "source": [
    "sns.scatterplot( x=\"PC1\", y=\"PC2\",\n",
    "  data=pc_df, \n",
    "  palette=\"Set1\",\n",
    "  hue='Cluster')"
   ]
  },
  {
   "cell_type": "markdown",
   "metadata": {},
   "source": [
    "### Agrupamento utilizando K-Means"
   ]
  },
  {
   "cell_type": "markdown",
   "metadata": {},
   "source": [
    "##### Escolhendo k=2"
   ]
  },
  {
   "cell_type": "code",
   "execution_count": 9,
   "metadata": {},
   "outputs": [],
   "source": [
    "from sklearn.cluster import KMeans\n",
    "\n",
    "kmeans = KMeans(n_clusters=2)\n",
    "kmeans_clusters = kmeans.fit(pc_df.iloc[:,0:4])"
   ]
  },
  {
   "cell_type": "code",
   "execution_count": 10,
   "metadata": {},
   "outputs": [
    {
     "data": {
      "text/plain": [
       "array([[-9.89496512,  5.54198321, -0.7588829 ,  0.06806418],\n",
       "       [ 9.89496512, -5.54198321,  0.7588829 , -0.06806418]])"
      ]
     },
     "execution_count": 10,
     "metadata": {},
     "output_type": "execute_result"
    }
   ],
   "source": [
    "kmeans_clusters.cluster_centers_"
   ]
  },
  {
   "cell_type": "code",
   "execution_count": 11,
   "metadata": {},
   "outputs": [
    {
     "data": {
      "text/plain": [
       "array([1, 0, 0, 1, 0, 1, 0, 1, 1, 0, 0, 0, 0, 0, 1, 1, 0, 1, 1, 0, 0, 1,\n",
       "       1, 1, 0, 1, 1, 1, 1, 0, 1, 0, 0, 1, 0, 1, 0, 0, 0, 0, 1, 1, 1, 0,\n",
       "       1, 0, 1, 1, 0, 0, 0, 1, 0, 0, 0, 0, 1, 0, 1, 1, 1, 1, 0, 1, 1, 1,\n",
       "       0, 1, 1, 1, 0, 0, 1, 1, 0, 1, 0, 0, 0, 1, 0, 1, 1, 1, 1, 0, 0, 1,\n",
       "       1, 0, 0, 0, 0, 0, 0, 1, 0, 1, 1, 0])"
      ]
     },
     "execution_count": 11,
     "metadata": {},
     "output_type": "execute_result"
    }
   ],
   "source": [
    "kmeans_clusters.labels_"
   ]
  },
  {
   "cell_type": "code",
   "execution_count": 12,
   "metadata": {},
   "outputs": [],
   "source": [
    "pc_df_clusters = pc_df.loc[:,\"cluster_km\"] = kmeans_clusters.labels_"
   ]
  },
  {
   "cell_type": "code",
   "execution_count": 13,
   "metadata": {},
   "outputs": [
    {
     "data": {
      "text/plain": [
       "<matplotlib.axes._subplots.AxesSubplot at 0x23294582ac8>"
      ]
     },
     "execution_count": 13,
     "metadata": {},
     "output_type": "execute_result"
    },
    {
     "data": {
      "image/png": "[encoded data removed]",
      "text/plain": [
       "<Figure size 432x288 with 1 Axes>"
      ]
     },
     "metadata": {
      "needs_background": "light"
     },
     "output_type": "display_data"
    }
   ],
   "source": [
    "sns.scatterplot( x=\"PC1\", y=\"PC2\",\n",
    "  data=pc_df, \n",
    "  palette=\"Set1\",\n",
    "  hue='cluster_km')"
   ]
  },
  {
   "cell_type": "markdown",
   "metadata": {},
   "source": [
    "##### Escolhendo k=4"
   ]
  },
  {
   "cell_type": "code",
   "execution_count": 14,
   "metadata": {},
   "outputs": [],
   "source": [
    "from sklearn.cluster import KMeans\n",
    "\n",
    "kmeans = KMeans(n_clusters=4)\n",
    "kmeans_clusters = kmeans.fit(pc_df.iloc[:,0:4])"
   ]
  },
  {
   "cell_type": "code",
   "execution_count": 15,
   "metadata": {},
   "outputs": [
    {
     "data": {
      "text/plain": [
       "array([[-4.66983631e+00,  1.61032268e+01,  5.30005535e+00,\n",
       "         1.22518260e-01],\n",
       "       [ 3.19994029e+00, -1.37024430e+01,  7.77781593e+00,\n",
       "        -2.81502061e-02],\n",
       "       [-1.51200939e+01, -5.01926034e+00, -6.81782115e+00,\n",
       "         1.36100934e-02],\n",
       "       [ 1.65899899e+01,  2.61847656e+00, -6.26005012e+00,\n",
       "        -1.07978147e-01]])"
      ]
     },
     "execution_count": 15,
     "metadata": {},
     "output_type": "execute_result"
    }
   ],
   "source": [
    "kmeans_clusters.cluster_centers_"
   ]
  },
  {
   "cell_type": "code",
   "execution_count": 16,
   "metadata": {},
   "outputs": [
    {
     "data": {
      "text/plain": [
       "array([1, 2, 2, 1, 0, 1, 0, 1, 1, 0, 2, 2, 0, 0, 3, 3, 2, 1, 1, 0, 0, 3,\n",
       "       1, 3, 2, 3, 1, 1, 1, 2, 3, 0, 2, 3, 0, 1, 0, 2, 2, 0, 1, 3, 1, 0,\n",
       "       3, 0, 1, 1, 2, 0, 2, 3, 2, 2, 0, 2, 3, 2, 1, 1, 3, 3, 0, 3, 3, 1,\n",
       "       2, 1, 3, 3, 2, 2, 3, 3, 2, 3, 2, 0, 0, 3, 2, 1, 1, 1, 3, 0, 0, 1,\n",
       "       3, 2, 0, 2, 0, 0, 0, 3, 2, 3, 1, 0])"
      ]
     },
     "execution_count": 16,
     "metadata": {},
     "output_type": "execute_result"
    }
   ],
   "source": [
    "kmeans_clusters.labels_"
   ]
  },
  {
   "cell_type": "code",
   "execution_count": 17,
   "metadata": {},
   "outputs": [],
   "source": [
    "pc_df_clusters = pc_df.loc[:,\"cluster_km\"] = kmeans_clusters.labels_"
   ]
  },
  {
   "cell_type": "code",
   "execution_count": 18,
   "metadata": {},
   "outputs": [
    {
     "data": {
      "text/plain": [
       "<matplotlib.axes._subplots.AxesSubplot at 0x2329465d748>"
      ]
     },
     "execution_count": 18,
     "metadata": {},
     "output_type": "execute_result"
    },
    {
     "data": {
      "image/png": "[encoded data removed]",
      "text/plain": [
       "<Figure size 432x288 with 1 Axes>"
      ]
     },
     "metadata": {
      "needs_background": "light"
     },
     "output_type": "display_data"
    }
   ],
   "source": [
    "sns.scatterplot( x=\"PC1\", y=\"PC2\",\n",
    "  data=pc_df, \n",
    "  palette=\"Set1\",\n",
    "  hue='cluster_km')"
   ]
  },
  {
   "cell_type": "markdown",
   "metadata": {},
   "source": [
    "## Sua vez!"
   ]
  },
  {
   "cell_type": "markdown",
   "metadata": {},
   "source": [
    "#### Vamos trabalhar com o Dataset de Diabetes de Índios Pima"
   ]
  },
  {
   "cell_type": "markdown",
   "metadata": {},
   "source": [
    "Colunas:\n",
    "\n",
    "* 0. Número de vezes grávidas\n",
    "* 1. Concentração de glicose a 2h de um teste de tolerância a glicose.\n",
    "* 2. Pressão sanguínea diastólica (mm Hg).\n",
    "* 3. Mensuração da espessura da pregas cutâneas Tricipital (mm).\n",
    "* 4. Nível sérico de Insulina após 2h (mu U/ml).\n",
    "* 5. Body mass index (peso em kg/(altura em m)^2).\n",
    "* 6. Função Pedigree Diabetes.\n",
    "* 7. Idade (anos).\n",
    "* 8. Variável Classe (0 ou 1)."
   ]
  },
  {
   "cell_type": "code",
   "execution_count": 19,
   "metadata": {},
   "outputs": [],
   "source": [
    "dataset = pd.read_csv('../dados/pima-indians-diabetes.data.txt', header=None)"
   ]
  },
  {
   "cell_type": "markdown",
   "metadata": {},
   "source": [
    "#### Faça um sumário descritivo dos dados"
   ]
  },
  {
   "cell_type": "markdown",
   "metadata": {},
   "source": [
    "#### Faça a Estandardização dos dados de entrada (sem a classe)"
   ]
  },
  {
   "cell_type": "markdown",
   "metadata": {},
   "source": [
    "#### Aplique o PCA aos dados de entrada (sem a classe)"
   ]
  },
  {
   "cell_type": "markdown",
   "metadata": {},
   "source": [
    "#### Plote o gráfico de barras com a explicação da variância dada pelos componentes principais"
   ]
  },
  {
   "cell_type": "markdown",
   "metadata": {},
   "source": [
    "#### Faça um scatterplot com os dois primeiros componentes no x e y, respectivamente, e a cor sendo a classe"
   ]
  },
  {
   "cell_type": "markdown",
   "metadata": {},
   "source": [
    "#### Aplique o K-Means ao dado com os dois primeiros componentes principais com num_clusters=2"
   ]
  },
  {
   "cell_type": "markdown",
   "metadata": {},
   "source": [
    "#### Faça um scatterplot com os dois primeiros componentes no x e y, respectivamente, e a cor sendo o cluster definido pelo kmeans"
   ]
  }
 ],
 "metadata": {
  "kernelspec": {
   "display_name": "Python 3",
   "language": "python",
   "name": "python3"
  },
  "language_info": {
   "codemirror_mode": {
    "name": "ipython",
    "version": 3
   },
   "file_extension": ".py",
   "mimetype": "text/x-python",
   "name": "python",
   "nbconvert_exporter": "python",
   "pygments_lexer": "ipython3",
   "version": "3.7.4"
  }
 },
 "nbformat": 4,
 "nbformat_minor": 2
}
