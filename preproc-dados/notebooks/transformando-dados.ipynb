{
 "cells": [
  {
   "cell_type": "markdown",
   "metadata": {},
   "source": [
    "## Setup"
   ]
  },
  {
   "cell_type": "code",
   "execution_count": 1,
   "metadata": {},
   "outputs": [],
   "source": [
    "import pandas as pd\n",
    "from sklearn.preprocessing import LabelEncoder, OneHotEncoder"
   ]
  },
  {
   "cell_type": "code",
   "execution_count": 2,
   "metadata": {},
   "outputs": [],
   "source": [
    "deputados = pd.read_csv('../dados/parlamentares_camara.csv')"
   ]
  },
  {
   "cell_type": "code",
   "execution_count": 3,
   "metadata": {},
   "outputs": [
    {
     "data": {
      "text/html": [
       "<div>\n",
       "<style scoped>\n",
       "    .dataframe tbody tr th:only-of-type {\n",
       "        vertical-align: middle;\n",
       "    }\n",
       "\n",
       "    .dataframe tbody tr th {\n",
       "        vertical-align: top;\n",
       "    }\n",
       "\n",
       "    .dataframe thead th {\n",
       "        text-align: right;\n",
       "    }\n",
       "</style>\n",
       "<table border=\"1\" class=\"dataframe\">\n",
       "  <thead>\n",
       "    <tr style=\"text-align: right;\">\n",
       "      <th></th>\n",
       "      <th>cpf</th>\n",
       "      <th>data_falecimento</th>\n",
       "      <th>data_nascimento</th>\n",
       "      <th>escolaridade</th>\n",
       "      <th>id</th>\n",
       "      <th>municipio_nascimento</th>\n",
       "      <th>nome_civil</th>\n",
       "      <th>rede_social</th>\n",
       "      <th>rede_social1</th>\n",
       "      <th>rede_social10</th>\n",
       "      <th>...</th>\n",
       "      <th>ultimo_status_nome</th>\n",
       "      <th>ultimo_status_nome_eleitoral</th>\n",
       "      <th>ultimo_status_sigla_partido</th>\n",
       "      <th>ultimo_status_sigla_uf</th>\n",
       "      <th>ultimo_status_situacao</th>\n",
       "      <th>ultimo_status_uri</th>\n",
       "      <th>ultimo_status_uri_partido</th>\n",
       "      <th>ultimo_status_url_foto</th>\n",
       "      <th>uri</th>\n",
       "      <th>url_website</th>\n",
       "    </tr>\n",
       "  </thead>\n",
       "  <tbody>\n",
       "    <tr>\n",
       "      <td>0</td>\n",
       "      <td>4.815701e+09</td>\n",
       "      <td>NaN</td>\n",
       "      <td>1935-02-19</td>\n",
       "      <td>NaN</td>\n",
       "      <td>1500</td>\n",
       "      <td>Glória</td>\n",
       "      <td>MÁRIO SOARES LIMA</td>\n",
       "      <td>NaN</td>\n",
       "      <td>NaN</td>\n",
       "      <td>NaN</td>\n",
       "      <td>...</td>\n",
       "      <td>MÁRIO LIMA</td>\n",
       "      <td>MÁRIO LIMA</td>\n",
       "      <td>PMDB</td>\n",
       "      <td>BA</td>\n",
       "      <td>NaN</td>\n",
       "      <td>https://dadosabertos.camara.leg.br/api/v2/depu...</td>\n",
       "      <td>https://dadosabertos.camara.leg.br/api/v2/part...</td>\n",
       "      <td>https://www.camara.leg.br/internet/deputado/ba...</td>\n",
       "      <td>https://dadosabertos.camara.leg.br/api/v2/depu...</td>\n",
       "      <td>NaN</td>\n",
       "    </tr>\n",
       "    <tr>\n",
       "      <td>1</td>\n",
       "      <td>NaN</td>\n",
       "      <td>NaN</td>\n",
       "      <td>1939-08-12</td>\n",
       "      <td>NaN</td>\n",
       "      <td>1501</td>\n",
       "      <td>Curitiba</td>\n",
       "      <td>Maurício Roslindo Fruet</td>\n",
       "      <td>NaN</td>\n",
       "      <td>NaN</td>\n",
       "      <td>NaN</td>\n",
       "      <td>...</td>\n",
       "      <td>MAURÍCIO FRUET</td>\n",
       "      <td>MAURÍCIO FRUET</td>\n",
       "      <td>PMDB</td>\n",
       "      <td>PR</td>\n",
       "      <td>NaN</td>\n",
       "      <td>https://dadosabertos.camara.leg.br/api/v2/depu...</td>\n",
       "      <td>https://dadosabertos.camara.leg.br/api/v2/part...</td>\n",
       "      <td>https://www.camara.leg.br/internet/deputado/ba...</td>\n",
       "      <td>https://dadosabertos.camara.leg.br/api/v2/depu...</td>\n",
       "      <td>NaN</td>\n",
       "    </tr>\n",
       "    <tr>\n",
       "      <td>2</td>\n",
       "      <td>NaN</td>\n",
       "      <td>NaN</td>\n",
       "      <td>1933-10-22</td>\n",
       "      <td>NaN</td>\n",
       "      <td>1502</td>\n",
       "      <td>NaN</td>\n",
       "      <td>Oswaldo Barreto de Almeida</td>\n",
       "      <td>NaN</td>\n",
       "      <td>NaN</td>\n",
       "      <td>NaN</td>\n",
       "      <td>...</td>\n",
       "      <td>OSWALDO ALMEIDA</td>\n",
       "      <td>OSWALDO ALMEIDA</td>\n",
       "      <td>PL*</td>\n",
       "      <td>RJ</td>\n",
       "      <td>NaN</td>\n",
       "      <td>https://dadosabertos.camara.leg.br/api/v2/depu...</td>\n",
       "      <td>https://dadosabertos.camara.leg.br/api/v2/part...</td>\n",
       "      <td>https://www.camara.leg.br/internet/deputado/ba...</td>\n",
       "      <td>https://dadosabertos.camara.leg.br/api/v2/depu...</td>\n",
       "      <td>NaN</td>\n",
       "    </tr>\n",
       "    <tr>\n",
       "      <td>3</td>\n",
       "      <td>1.160613e+07</td>\n",
       "      <td>NaN</td>\n",
       "      <td>1921-04-26</td>\n",
       "      <td>NaN</td>\n",
       "      <td>1503</td>\n",
       "      <td>NaN</td>\n",
       "      <td>Oswaldo Cavalcanti da Costa Lima Filho</td>\n",
       "      <td>NaN</td>\n",
       "      <td>NaN</td>\n",
       "      <td>NaN</td>\n",
       "      <td>...</td>\n",
       "      <td>OSWALDO LIMA FILHO</td>\n",
       "      <td>OSWALDO LIMA FILHO</td>\n",
       "      <td>PMDB</td>\n",
       "      <td>PE</td>\n",
       "      <td>NaN</td>\n",
       "      <td>https://dadosabertos.camara.leg.br/api/v2/depu...</td>\n",
       "      <td>https://dadosabertos.camara.leg.br/api/v2/part...</td>\n",
       "      <td>https://www.camara.leg.br/internet/deputado/ba...</td>\n",
       "      <td>https://dadosabertos.camara.leg.br/api/v2/depu...</td>\n",
       "      <td>NaN</td>\n",
       "    </tr>\n",
       "    <tr>\n",
       "      <td>4</td>\n",
       "      <td>NaN</td>\n",
       "      <td>NaN</td>\n",
       "      <td>1922-12-31</td>\n",
       "      <td>NaN</td>\n",
       "      <td>1504</td>\n",
       "      <td>Torrinha</td>\n",
       "      <td>Antonio Tito Costa</td>\n",
       "      <td>NaN</td>\n",
       "      <td>NaN</td>\n",
       "      <td>NaN</td>\n",
       "      <td>...</td>\n",
       "      <td>TITO COSTA</td>\n",
       "      <td>TITO COSTA</td>\n",
       "      <td>PMDB</td>\n",
       "      <td>SP</td>\n",
       "      <td>NaN</td>\n",
       "      <td>https://dadosabertos.camara.leg.br/api/v2/depu...</td>\n",
       "      <td>https://dadosabertos.camara.leg.br/api/v2/part...</td>\n",
       "      <td>https://www.camara.leg.br/internet/deputado/ba...</td>\n",
       "      <td>https://dadosabertos.camara.leg.br/api/v2/depu...</td>\n",
       "      <td>NaN</td>\n",
       "    </tr>\n",
       "  </tbody>\n",
       "</table>\n",
       "<p>5 rows × 41 columns</p>\n",
       "</div>"
      ],
      "text/plain": [
       "            cpf data_falecimento data_nascimento  escolaridade    id  \\\n",
       "0  4.815701e+09              NaN      1935-02-19           NaN  1500   \n",
       "1           NaN              NaN      1939-08-12           NaN  1501   \n",
       "2           NaN              NaN      1933-10-22           NaN  1502   \n",
       "3  1.160613e+07              NaN      1921-04-26           NaN  1503   \n",
       "4           NaN              NaN      1922-12-31           NaN  1504   \n",
       "\n",
       "  municipio_nascimento                              nome_civil rede_social  \\\n",
       "0               Glória                       MÁRIO SOARES LIMA         NaN   \n",
       "1             Curitiba                 Maurício Roslindo Fruet         NaN   \n",
       "2                  NaN              Oswaldo Barreto de Almeida         NaN   \n",
       "3                  NaN  Oswaldo Cavalcanti da Costa Lima Filho         NaN   \n",
       "4             Torrinha                      Antonio Tito Costa         NaN   \n",
       "\n",
       "  rede_social1 rede_social10  ...  ultimo_status_nome  \\\n",
       "0          NaN           NaN  ...          MÁRIO LIMA   \n",
       "1          NaN           NaN  ...      MAURÍCIO FRUET   \n",
       "2          NaN           NaN  ...     OSWALDO ALMEIDA   \n",
       "3          NaN           NaN  ...  OSWALDO LIMA FILHO   \n",
       "4          NaN           NaN  ...          TITO COSTA   \n",
       "\n",
       "  ultimo_status_nome_eleitoral ultimo_status_sigla_partido  \\\n",
       "0                   MÁRIO LIMA                        PMDB   \n",
       "1               MAURÍCIO FRUET                        PMDB   \n",
       "2              OSWALDO ALMEIDA                         PL*   \n",
       "3           OSWALDO LIMA FILHO                        PMDB   \n",
       "4                   TITO COSTA                        PMDB   \n",
       "\n",
       "  ultimo_status_sigla_uf ultimo_status_situacao  \\\n",
       "0                     BA                    NaN   \n",
       "1                     PR                    NaN   \n",
       "2                     RJ                    NaN   \n",
       "3                     PE                    NaN   \n",
       "4                     SP                    NaN   \n",
       "\n",
       "                                   ultimo_status_uri  \\\n",
       "0  https://dadosabertos.camara.leg.br/api/v2/depu...   \n",
       "1  https://dadosabertos.camara.leg.br/api/v2/depu...   \n",
       "2  https://dadosabertos.camara.leg.br/api/v2/depu...   \n",
       "3  https://dadosabertos.camara.leg.br/api/v2/depu...   \n",
       "4  https://dadosabertos.camara.leg.br/api/v2/depu...   \n",
       "\n",
       "                           ultimo_status_uri_partido  \\\n",
       "0  https://dadosabertos.camara.leg.br/api/v2/part...   \n",
       "1  https://dadosabertos.camara.leg.br/api/v2/part...   \n",
       "2  https://dadosabertos.camara.leg.br/api/v2/part...   \n",
       "3  https://dadosabertos.camara.leg.br/api/v2/part...   \n",
       "4  https://dadosabertos.camara.leg.br/api/v2/part...   \n",
       "\n",
       "                              ultimo_status_url_foto  \\\n",
       "0  https://www.camara.leg.br/internet/deputado/ba...   \n",
       "1  https://www.camara.leg.br/internet/deputado/ba...   \n",
       "2  https://www.camara.leg.br/internet/deputado/ba...   \n",
       "3  https://www.camara.leg.br/internet/deputado/ba...   \n",
       "4  https://www.camara.leg.br/internet/deputado/ba...   \n",
       "\n",
       "                                                 uri url_website  \n",
       "0  https://dadosabertos.camara.leg.br/api/v2/depu...         NaN  \n",
       "1  https://dadosabertos.camara.leg.br/api/v2/depu...         NaN  \n",
       "2  https://dadosabertos.camara.leg.br/api/v2/depu...         NaN  \n",
       "3  https://dadosabertos.camara.leg.br/api/v2/depu...         NaN  \n",
       "4  https://dadosabertos.camara.leg.br/api/v2/depu...         NaN  \n",
       "\n",
       "[5 rows x 41 columns]"
      ]
     },
     "execution_count": 3,
     "metadata": {},
     "output_type": "execute_result"
    }
   ],
   "source": [
    "deputados.head()"
   ]
  },
  {
   "cell_type": "code",
   "execution_count": 4,
   "metadata": {},
   "outputs": [
    {
     "data": {
      "text/plain": [
       "cpf                                 float64\n",
       "data_falecimento                     object\n",
       "data_nascimento                      object\n",
       "escolaridade                        float64\n",
       "id                                    int64\n",
       "municipio_nascimento                 object\n",
       "nome_civil                           object\n",
       "rede_social                          object\n",
       "rede_social1                         object\n",
       "rede_social10                        object\n",
       "rede_social2                         object\n",
       "rede_social3                         object\n",
       "rede_social4                         object\n",
       "rede_social5                         object\n",
       "rede_social6                         object\n",
       "rede_social7                         object\n",
       "rede_social8                         object\n",
       "rede_social9                         object\n",
       "sexo                                 object\n",
       "uf_nascimento                        object\n",
       "ultimo_status_condicao_eleitoral     object\n",
       "ultimo_status_data                  float64\n",
       "ultimo_status_descricao_status      float64\n",
       "ultimo_status_gabinete_andar        float64\n",
       "ultimo_status_gabinete_email         object\n",
       "ultimo_status_gabinete_nome         float64\n",
       "ultimo_status_gabinete_predio        object\n",
       "ultimo_status_gabinete_sala         float64\n",
       "ultimo_status_gabinete_telefone      object\n",
       "ultimo_status_id                      int64\n",
       "ultimo_status_id_legislatura          int64\n",
       "ultimo_status_nome                   object\n",
       "ultimo_status_nome_eleitoral         object\n",
       "ultimo_status_sigla_partido          object\n",
       "ultimo_status_sigla_uf               object\n",
       "ultimo_status_situacao               object\n",
       "ultimo_status_uri                    object\n",
       "ultimo_status_uri_partido            object\n",
       "ultimo_status_url_foto               object\n",
       "uri                                  object\n",
       "url_website                          object\n",
       "dtype: object"
      ]
     },
     "execution_count": 4,
     "metadata": {},
     "output_type": "execute_result"
    }
   ],
   "source": [
    "deputados.dtypes"
   ]
  },
  {
   "cell_type": "code",
   "execution_count": 5,
   "metadata": {},
   "outputs": [],
   "source": [
    "deputados = deputados.query('ultimo_status_id_legislatura == 56')"
   ]
  },
  {
   "cell_type": "markdown",
   "metadata": {},
   "source": [
    "## Uniformização/Simplificação do dado"
   ]
  },
  {
   "cell_type": "markdown",
   "metadata": {},
   "source": [
    "### Datas"
   ]
  },
  {
   "cell_type": "markdown",
   "metadata": {},
   "source": [
    "#### Converter de String para datetime"
   ]
  },
  {
   "cell_type": "code",
   "execution_count": 6,
   "metadata": {},
   "outputs": [],
   "source": [
    "deputados.loc[:,'data_nascimento_dt'] = pd.to_datetime(deputados['data_nascimento'], infer_datetime_format=True)"
   ]
  },
  {
   "cell_type": "code",
   "execution_count": 7,
   "metadata": {},
   "outputs": [
    {
     "data": {
      "text/plain": [
       "101   1959-09-07\n",
       "104   1977-06-01\n",
       "106   1966-04-23\n",
       "111   1972-06-19\n",
       "113   1957-07-09\n",
       "Name: data_nascimento_dt, dtype: datetime64[ns]"
      ]
     },
     "execution_count": 7,
     "metadata": {},
     "output_type": "execute_result"
    }
   ],
   "source": [
    "deputados['data_nascimento_dt'].head()"
   ]
  },
  {
   "cell_type": "code",
   "execution_count": 8,
   "metadata": {},
   "outputs": [],
   "source": [
    "deputados.loc[:,'data_nascimento_dt2'] = pd.to_datetime(deputados['data_nascimento'], format='%Y-%m-%d')"
   ]
  },
  {
   "cell_type": "code",
   "execution_count": 9,
   "metadata": {},
   "outputs": [
    {
     "data": {
      "text/plain": [
       "101    1959-09-07\n",
       "104    1977-06-01\n",
       "106    1966-04-23\n",
       "111    1972-06-19\n",
       "113    1957-07-09\n",
       "          ...    \n",
       "4214   1965-07-26\n",
       "4215   1964-12-28\n",
       "4216   1969-01-14\n",
       "4217   1972-11-05\n",
       "4218   1957-08-23\n",
       "Name: data_nascimento_dt2, Length: 536, dtype: datetime64[ns]"
      ]
     },
     "execution_count": 9,
     "metadata": {},
     "output_type": "execute_result"
    }
   ],
   "source": [
    "deputados['data_nascimento_dt2']"
   ]
  },
  {
   "cell_type": "code",
   "execution_count": 10,
   "metadata": {},
   "outputs": [
    {
     "data": {
      "text/plain": [
       "cpf                                        float64\n",
       "data_falecimento                            object\n",
       "data_nascimento                             object\n",
       "escolaridade                               float64\n",
       "id                                           int64\n",
       "municipio_nascimento                        object\n",
       "nome_civil                                  object\n",
       "rede_social                                 object\n",
       "rede_social1                                object\n",
       "rede_social10                               object\n",
       "rede_social2                                object\n",
       "rede_social3                                object\n",
       "rede_social4                                object\n",
       "rede_social5                                object\n",
       "rede_social6                                object\n",
       "rede_social7                                object\n",
       "rede_social8                                object\n",
       "rede_social9                                object\n",
       "sexo                                        object\n",
       "uf_nascimento                               object\n",
       "ultimo_status_condicao_eleitoral            object\n",
       "ultimo_status_data                         float64\n",
       "ultimo_status_descricao_status             float64\n",
       "ultimo_status_gabinete_andar               float64\n",
       "ultimo_status_gabinete_email                object\n",
       "ultimo_status_gabinete_nome                float64\n",
       "ultimo_status_gabinete_predio               object\n",
       "ultimo_status_gabinete_sala                float64\n",
       "ultimo_status_gabinete_telefone             object\n",
       "ultimo_status_id                             int64\n",
       "ultimo_status_id_legislatura                 int64\n",
       "ultimo_status_nome                          object\n",
       "ultimo_status_nome_eleitoral                object\n",
       "ultimo_status_sigla_partido                 object\n",
       "ultimo_status_sigla_uf                      object\n",
       "ultimo_status_situacao                      object\n",
       "ultimo_status_uri                           object\n",
       "ultimo_status_uri_partido                   object\n",
       "ultimo_status_url_foto                      object\n",
       "uri                                         object\n",
       "url_website                                 object\n",
       "data_nascimento_dt                  datetime64[ns]\n",
       "data_nascimento_dt2                 datetime64[ns]\n",
       "dtype: object"
      ]
     },
     "execution_count": 10,
     "metadata": {},
     "output_type": "execute_result"
    }
   ],
   "source": [
    "deputados.dtypes"
   ]
  },
  {
   "cell_type": "markdown",
   "metadata": {},
   "source": [
    "### Dados Categóricos"
   ]
  },
  {
   "cell_type": "markdown",
   "metadata": {},
   "source": [
    "#### Ordinais"
   ]
  },
  {
   "cell_type": "code",
   "execution_count": 11,
   "metadata": {},
   "outputs": [],
   "source": [
    "notas_df = pd.DataFrame(data={'aluno':['João','Maria','José','Thiago'],\n",
    "                           'nota_eua':['A-','B-','A+','B+']})"
   ]
  },
  {
   "cell_type": "code",
   "execution_count": 12,
   "metadata": {},
   "outputs": [
    {
     "data": {
      "text/html": [
       "<div>\n",
       "<style scoped>\n",
       "    .dataframe tbody tr th:only-of-type {\n",
       "        vertical-align: middle;\n",
       "    }\n",
       "\n",
       "    .dataframe tbody tr th {\n",
       "        vertical-align: top;\n",
       "    }\n",
       "\n",
       "    .dataframe thead th {\n",
       "        text-align: right;\n",
       "    }\n",
       "</style>\n",
       "<table border=\"1\" class=\"dataframe\">\n",
       "  <thead>\n",
       "    <tr style=\"text-align: right;\">\n",
       "      <th></th>\n",
       "      <th>aluno</th>\n",
       "      <th>nota_eua</th>\n",
       "    </tr>\n",
       "  </thead>\n",
       "  <tbody>\n",
       "    <tr>\n",
       "      <td>0</td>\n",
       "      <td>João</td>\n",
       "      <td>A-</td>\n",
       "    </tr>\n",
       "    <tr>\n",
       "      <td>1</td>\n",
       "      <td>Maria</td>\n",
       "      <td>B-</td>\n",
       "    </tr>\n",
       "    <tr>\n",
       "      <td>2</td>\n",
       "      <td>José</td>\n",
       "      <td>A+</td>\n",
       "    </tr>\n",
       "    <tr>\n",
       "      <td>3</td>\n",
       "      <td>Thiago</td>\n",
       "      <td>B+</td>\n",
       "    </tr>\n",
       "  </tbody>\n",
       "</table>\n",
       "</div>"
      ],
      "text/plain": [
       "    aluno nota_eua\n",
       "0    João       A-\n",
       "1   Maria       B-\n",
       "2    José       A+\n",
       "3  Thiago       B+"
      ]
     },
     "execution_count": 12,
     "metadata": {},
     "output_type": "execute_result"
    }
   ],
   "source": [
    "notas_df.head()"
   ]
  },
  {
   "cell_type": "code",
   "execution_count": 13,
   "metadata": {},
   "outputs": [],
   "source": [
    "notas_eua_br = {\n",
    "    'A+': 10.0,\n",
    "    'A' : 9.5,\n",
    "    'A-': 9.0,\n",
    "    'B+': 8.5,\n",
    "    'B' : 8.0,\n",
    "    'B-' : 7.5\n",
    "}\n",
    "notas_df.loc[:,'nota_br'] = notas_df['nota_eua'].apply(lambda x: notas_eua_br[x])"
   ]
  },
  {
   "cell_type": "code",
   "execution_count": 14,
   "metadata": {},
   "outputs": [
    {
     "data": {
      "text/html": [
       "<div>\n",
       "<style scoped>\n",
       "    .dataframe tbody tr th:only-of-type {\n",
       "        vertical-align: middle;\n",
       "    }\n",
       "\n",
       "    .dataframe tbody tr th {\n",
       "        vertical-align: top;\n",
       "    }\n",
       "\n",
       "    .dataframe thead th {\n",
       "        text-align: right;\n",
       "    }\n",
       "</style>\n",
       "<table border=\"1\" class=\"dataframe\">\n",
       "  <thead>\n",
       "    <tr style=\"text-align: right;\">\n",
       "      <th></th>\n",
       "      <th>aluno</th>\n",
       "      <th>nota_eua</th>\n",
       "      <th>nota_br</th>\n",
       "    </tr>\n",
       "  </thead>\n",
       "  <tbody>\n",
       "    <tr>\n",
       "      <td>0</td>\n",
       "      <td>João</td>\n",
       "      <td>A-</td>\n",
       "      <td>9.0</td>\n",
       "    </tr>\n",
       "    <tr>\n",
       "      <td>1</td>\n",
       "      <td>Maria</td>\n",
       "      <td>B-</td>\n",
       "      <td>7.5</td>\n",
       "    </tr>\n",
       "    <tr>\n",
       "      <td>2</td>\n",
       "      <td>José</td>\n",
       "      <td>A+</td>\n",
       "      <td>10.0</td>\n",
       "    </tr>\n",
       "    <tr>\n",
       "      <td>3</td>\n",
       "      <td>Thiago</td>\n",
       "      <td>B+</td>\n",
       "      <td>8.5</td>\n",
       "    </tr>\n",
       "  </tbody>\n",
       "</table>\n",
       "</div>"
      ],
      "text/plain": [
       "    aluno nota_eua  nota_br\n",
       "0    João       A-      9.0\n",
       "1   Maria       B-      7.5\n",
       "2    José       A+     10.0\n",
       "3  Thiago       B+      8.5"
      ]
     },
     "execution_count": 14,
     "metadata": {},
     "output_type": "execute_result"
    }
   ],
   "source": [
    "notas_df"
   ]
  },
  {
   "cell_type": "markdown",
   "metadata": {},
   "source": [
    "#### Binários"
   ]
  },
  {
   "cell_type": "code",
   "execution_count": 15,
   "metadata": {},
   "outputs": [],
   "source": [
    "deputados.loc[:,'sexo_num'] = deputados['sexo'].apply(lambda x: int(x == 'M'))"
   ]
  },
  {
   "cell_type": "code",
   "execution_count": 16,
   "metadata": {},
   "outputs": [
    {
     "data": {
      "text/plain": [
       "101     0\n",
       "104     1\n",
       "106     0\n",
       "111     1\n",
       "113     1\n",
       "       ..\n",
       "4214    1\n",
       "4215    1\n",
       "4216    0\n",
       "4217    1\n",
       "4218    1\n",
       "Name: sexo_num, Length: 536, dtype: int64"
      ]
     },
     "execution_count": 16,
     "metadata": {},
     "output_type": "execute_result"
    }
   ],
   "source": [
    "deputados['sexo_num']"
   ]
  },
  {
   "cell_type": "markdown",
   "metadata": {},
   "source": [
    "#### Nominal (One-hot encoding)"
   ]
  },
  {
   "cell_type": "code",
   "execution_count": 17,
   "metadata": {},
   "outputs": [],
   "source": [
    "deputados = pd.concat([deputados, pd.get_dummies(deputados['ultimo_status_sigla_uf'], prefix='uf', dummy_na=True)],axis=1)\n",
    "#deputados.drop(['ultimo_status_sigla_uf'],axis=1, inplace=True)"
   ]
  },
  {
   "cell_type": "code",
   "execution_count": 18,
   "metadata": {},
   "outputs": [
    {
     "data": {
      "text/plain": [
       "Index(['cpf', 'data_falecimento', 'data_nascimento', 'escolaridade', 'id',\n",
       "       'municipio_nascimento', 'nome_civil', 'rede_social', 'rede_social1',\n",
       "       'rede_social10', 'rede_social2', 'rede_social3', 'rede_social4',\n",
       "       'rede_social5', 'rede_social6', 'rede_social7', 'rede_social8',\n",
       "       'rede_social9', 'sexo', 'uf_nascimento',\n",
       "       'ultimo_status_condicao_eleitoral', 'ultimo_status_data',\n",
       "       'ultimo_status_descricao_status', 'ultimo_status_gabinete_andar',\n",
       "       'ultimo_status_gabinete_email', 'ultimo_status_gabinete_nome',\n",
       "       'ultimo_status_gabinete_predio', 'ultimo_status_gabinete_sala',\n",
       "       'ultimo_status_gabinete_telefone', 'ultimo_status_id',\n",
       "       'ultimo_status_id_legislatura', 'ultimo_status_nome',\n",
       "       'ultimo_status_nome_eleitoral', 'ultimo_status_sigla_partido',\n",
       "       'ultimo_status_sigla_uf', 'ultimo_status_situacao', 'ultimo_status_uri',\n",
       "       'ultimo_status_uri_partido', 'ultimo_status_url_foto', 'uri',\n",
       "       'url_website', 'data_nascimento_dt', 'data_nascimento_dt2', 'sexo_num',\n",
       "       'uf_AC', 'uf_AL', 'uf_AM', 'uf_AP', 'uf_BA', 'uf_CE', 'uf_DF', 'uf_ES',\n",
       "       'uf_GO', 'uf_MA', 'uf_MG', 'uf_MS', 'uf_MT', 'uf_PA', 'uf_PB', 'uf_PE',\n",
       "       'uf_PI', 'uf_PR', 'uf_RJ', 'uf_RN', 'uf_RO', 'uf_RR', 'uf_RS', 'uf_SC',\n",
       "       'uf_SE', 'uf_SP', 'uf_TO', 'uf_nan'],\n",
       "      dtype='object')"
      ]
     },
     "execution_count": 18,
     "metadata": {},
     "output_type": "execute_result"
    }
   ],
   "source": [
    "deputados.columns"
   ]
  },
  {
   "cell_type": "code",
   "execution_count": null,
   "metadata": {},
   "outputs": [],
   "source": []
  }
 ],
 "metadata": {
  "kernelspec": {
   "display_name": "Python 3",
   "language": "python",
   "name": "python3"
  },
  "language_info": {
   "codemirror_mode": {
    "name": "ipython",
    "version": 3
   },
   "file_extension": ".py",
   "mimetype": "text/x-python",
   "name": "python",
   "nbconvert_exporter": "python",
   "pygments_lexer": "ipython3",
   "version": "3.7.4"
  }
 },
 "nbformat": 4,
 "nbformat_minor": 2
}
